{
  "nbformat": 4,
  "nbformat_minor": 0,
  "metadata": {
    "colab": {
      "name": "parse_and_clean_meta_data.ipynb",
      "provenance": [],
      "collapsed_sections": []
    },
    "kernelspec": {
      "name": "python3",
      "display_name": "Python 3"
    }
  },
  "cells": [
    {
      "cell_type": "code",
      "metadata": {
        "id": "f5NDXrN2CtH7"
      },
      "source": [
        "import os\n",
        "import json\n",
        "import gzip\n",
        "import pandas as pd\n",
        "from urllib.request import urlopen"
      ],
      "execution_count": 4,
      "outputs": []
    },
    {
      "cell_type": "code",
      "metadata": {
        "id": "feWoOrmt4Tja",
        "outputId": "f94d1ce6-bfde-4435-9efc-4d6b08fe7c4e",
        "colab": {
          "base_uri": "https://localhost:8080/"
        }
      },
      "source": [
        "!wget http://deepyeti.ucsd.edu/jianmo/amazon/categoryFiles/All_Amazon_Review.json.gz"
      ],
      "execution_count": 1,
      "outputs": [
        {
          "output_type": "stream",
          "text": [
            "--2020-11-16 15:36:53--  http://deepyeti.ucsd.edu/jianmo/amazon/categoryFiles/All_Amazon_Review.json.gz\n",
            "Resolving deepyeti.ucsd.edu (deepyeti.ucsd.edu)... 169.228.63.50\n",
            "Connecting to deepyeti.ucsd.edu (deepyeti.ucsd.edu)|169.228.63.50|:80... connected.\n",
            "HTTP request sent, awaiting response... 200 OK\n",
            "Length: 35974228440 (34G) [application/octet-stream]\n",
            "Saving to: ‘All_Amazon_Review.json.gz’\n",
            "\n",
            "All_Amazon_Review.j 100%[===================>]  33.50G  43.7MB/s    in 13m 24s \n",
            "\n",
            "2020-11-16 15:50:17 (42.7 MB/s) - ‘All_Amazon_Review.json.gz’ saved [35974228440/35974228440]\n",
            "\n"
          ],
          "name": "stdout"
        }
      ]
    },
    {
      "cell_type": "code",
      "metadata": {
        "id": "7igYuRaV4bF7"
      },
      "source": [
        "### load the meta data\n",
        "\n",
        "data = []\n",
        "with gzip.open('All_Amazon_Review.json.gz') as f:\n",
        "    for l in f:\n",
        "        data.append(json.loads(l.strip()))\n",
        "    \n",
        "# total length of list, this number equals total number of products\n",
        "print(len(data))\n",
        "\n",
        "# first row of the list\n",
        "print(data[0])"
      ],
      "execution_count": null,
      "outputs": []
    },
    {
      "cell_type": "code",
      "metadata": {
        "id": "knpHP22w4scK",
        "outputId": "b75be678-1377-4b8c-b689-56e1eab703b8",
        "colab": {
          "base_uri": "https://localhost:8080/",
          "height": 34
        }
      },
      "source": [
        "f_out = open(f\"training_data_all.txt\", \"w+\")\n",
        "for i in data:\n",
        "    try:\n",
        "        big_giant_text_blob = d[\"reviewText\"].rstrip(\"\\n\") + \" \"\n",
        "        f_out.write(big_giant_text_blob)\n",
        "    except KeyError:\n",
        "        continue\n",
        "f_out.close() "
      ],
      "execution_count": null,
      "outputs": [
        {
          "output_type": "stream",
          "text": [
            "18772\n"
          ],
          "name": "stdout"
        }
      ]
    }
  ]
}